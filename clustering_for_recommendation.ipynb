{
 "cells": [
  {
   "cell_type": "markdown",
   "metadata": {
    "id": "AS9tvjEdQjDN"
   },
   "source": [
    "#creating a dataframe\n"
   ]
  },
  {
   "cell_type": "code",
   "execution_count": 1,
   "metadata": {
    "colab": {
     "base_uri": "https://localhost:8080/"
    },
    "id": "Ei6bVlB4OP-m",
    "outputId": "311a5aa0-1b12-410f-fced-d9d23b0fd779"
   },
   "outputs": [
    {
     "name": "stdout",
     "output_type": "stream",
     "text": [
      "Mounted at /content/drive\n"
     ]
    }
   ],
   "source": [
    "# mount a drive\n",
    "from google.colab import drive\n",
    "drive.mount('/content/drive')"
   ]
  },
  {
   "cell_type": "code",
   "execution_count": 2,
   "metadata": {
    "id": "lBT-0taWOb1y"
   },
   "outputs": [],
   "source": [
    "# library imports\n",
    "\n",
    "import random\n",
    "import pandas as pd\n",
    "import numpy as np\n",
    "import seaborn as sns\n",
    "import matplotlib.pyplot as plt\n",
    "from numpy.random import randint \n",
    "from sklearn.cluster import KMeans\n",
    "from sklearn.preprocessing import StandardScaler"
   ]
  },
  {
   "cell_type": "code",
   "execution_count": 3,
   "metadata": {
    "id": "H_NCfrZEEy7r"
   },
   "outputs": [],
   "source": [
    "# creating a pandas dataframe\n",
    "\n",
    "profiles = pd.DataFrame(columns=['Age', 'Gender', 'Hobbies', 'Music', 'Movies'])\n",
    "profiles.to_csv('/content/drive/MyDrive/Profiles.csv', index=False)   # store dataframe to google drive"
   ]
  },
  {
   "cell_type": "code",
   "execution_count": 4,
   "metadata": {
    "colab": {
     "base_uri": "https://localhost:8080/",
     "height": 48
    },
    "id": "puZlqpdLFVIs",
    "outputId": "e9c7e0c5-f95a-417c-91db-860a4c561a02"
   },
   "outputs": [
    {
     "data": {
      "text/html": [
       "<div>\n",
       "<style scoped>\n",
       "    .dataframe tbody tr th:only-of-type {\n",
       "        vertical-align: middle;\n",
       "    }\n",
       "\n",
       "    .dataframe tbody tr th {\n",
       "        vertical-align: top;\n",
       "    }\n",
       "\n",
       "    .dataframe thead th {\n",
       "        text-align: right;\n",
       "    }\n",
       "</style>\n",
       "<table border=\"1\" class=\"dataframe\">\n",
       "  <thead>\n",
       "    <tr style=\"text-align: right;\">\n",
       "      <th></th>\n",
       "      <th>Age</th>\n",
       "      <th>Gender</th>\n",
       "      <th>Hobbies</th>\n",
       "      <th>Music</th>\n",
       "      <th>Movies</th>\n",
       "    </tr>\n",
       "  </thead>\n",
       "  <tbody>\n",
       "  </tbody>\n",
       "</table>\n",
       "</div>"
      ],
      "text/plain": [
       "Empty DataFrame\n",
       "Columns: [Age, Gender, Hobbies, Music, Movies]\n",
       "Index: []"
      ]
     },
     "execution_count": 4,
     "metadata": {
      "tags": []
     },
     "output_type": "execute_result"
    }
   ],
   "source": [
    "# reading a csv file\n",
    "\n",
    "df = pd.read_csv('/content/drive/MyDrive/Profiles.csv')\n",
    "df.head()"
   ]
  },
  {
   "cell_type": "code",
   "execution_count": 5,
   "metadata": {
    "colab": {
     "base_uri": "https://localhost:8080/",
     "height": 348
    },
    "id": "YintfFN1Fuh7",
    "outputId": "bd80dd70-bfd9-44a4-d8fd-f970bc278a0d"
   },
   "outputs": [
    {
     "data": {
      "text/html": [
       "<div>\n",
       "<style scoped>\n",
       "    .dataframe tbody tr th:only-of-type {\n",
       "        vertical-align: middle;\n",
       "    }\n",
       "\n",
       "    .dataframe tbody tr th {\n",
       "        vertical-align: top;\n",
       "    }\n",
       "\n",
       "    .dataframe thead th {\n",
       "        text-align: right;\n",
       "    }\n",
       "</style>\n",
       "<table border=\"1\" class=\"dataframe\">\n",
       "  <thead>\n",
       "    <tr style=\"text-align: right;\">\n",
       "      <th></th>\n",
       "      <th>Age</th>\n",
       "      <th>Gender</th>\n",
       "      <th>Hobbies</th>\n",
       "      <th>Music</th>\n",
       "      <th>Movies</th>\n",
       "    </tr>\n",
       "  </thead>\n",
       "  <tbody>\n",
       "    <tr>\n",
       "      <th>0</th>\n",
       "      <td>25.0</td>\n",
       "      <td>0.0</td>\n",
       "      <td>2.946478</td>\n",
       "      <td>8.873107</td>\n",
       "      <td>5.768204</td>\n",
       "    </tr>\n",
       "    <tr>\n",
       "      <th>1</th>\n",
       "      <td>27.0</td>\n",
       "      <td>0.0</td>\n",
       "      <td>6.019776</td>\n",
       "      <td>5.265957</td>\n",
       "      <td>9.210989</td>\n",
       "    </tr>\n",
       "    <tr>\n",
       "      <th>2</th>\n",
       "      <td>29.0</td>\n",
       "      <td>1.0</td>\n",
       "      <td>1.638441</td>\n",
       "      <td>5.427463</td>\n",
       "      <td>6.189025</td>\n",
       "    </tr>\n",
       "    <tr>\n",
       "      <th>3</th>\n",
       "      <td>25.0</td>\n",
       "      <td>1.0</td>\n",
       "      <td>7.194375</td>\n",
       "      <td>2.560416</td>\n",
       "      <td>8.134584</td>\n",
       "    </tr>\n",
       "    <tr>\n",
       "      <th>4</th>\n",
       "      <td>28.0</td>\n",
       "      <td>1.0</td>\n",
       "      <td>6.405804</td>\n",
       "      <td>9.323237</td>\n",
       "      <td>1.793573</td>\n",
       "    </tr>\n",
       "    <tr>\n",
       "      <th>5</th>\n",
       "      <td>27.0</td>\n",
       "      <td>1.0</td>\n",
       "      <td>8.269868</td>\n",
       "      <td>9.396952</td>\n",
       "      <td>7.148955</td>\n",
       "    </tr>\n",
       "    <tr>\n",
       "      <th>6</th>\n",
       "      <td>28.0</td>\n",
       "      <td>0.0</td>\n",
       "      <td>3.223796</td>\n",
       "      <td>2.940016</td>\n",
       "      <td>5.542013</td>\n",
       "    </tr>\n",
       "    <tr>\n",
       "      <th>7</th>\n",
       "      <td>27.0</td>\n",
       "      <td>1.0</td>\n",
       "      <td>8.927755</td>\n",
       "      <td>7.693737</td>\n",
       "      <td>5.327966</td>\n",
       "    </tr>\n",
       "    <tr>\n",
       "      <th>8</th>\n",
       "      <td>24.0</td>\n",
       "      <td>1.0</td>\n",
       "      <td>2.618935</td>\n",
       "      <td>6.820018</td>\n",
       "      <td>4.992629</td>\n",
       "    </tr>\n",
       "    <tr>\n",
       "      <th>9</th>\n",
       "      <td>24.0</td>\n",
       "      <td>0.0</td>\n",
       "      <td>2.216755</td>\n",
       "      <td>9.257009</td>\n",
       "      <td>7.100814</td>\n",
       "    </tr>\n",
       "  </tbody>\n",
       "</table>\n",
       "</div>"
      ],
      "text/plain": [
       "    Age  Gender   Hobbies     Music    Movies\n",
       "0  25.0     0.0  2.946478  8.873107  5.768204\n",
       "1  27.0     0.0  6.019776  5.265957  9.210989\n",
       "2  29.0     1.0  1.638441  5.427463  6.189025\n",
       "3  25.0     1.0  7.194375  2.560416  8.134584\n",
       "4  28.0     1.0  6.405804  9.323237  1.793573\n",
       "5  27.0     1.0  8.269868  9.396952  7.148955\n",
       "6  28.0     0.0  3.223796  2.940016  5.542013\n",
       "7  27.0     1.0  8.927755  7.693737  5.327966\n",
       "8  24.0     1.0  2.618935  6.820018  4.992629\n",
       "9  24.0     0.0  2.216755  9.257009  7.100814"
      ]
     },
     "execution_count": 5,
     "metadata": {
      "tags": []
     },
     "output_type": "execute_result"
    }
   ],
   "source": [
    "# entering the values in the dataframe\n",
    "\n",
    "if len(df.index) < 100:\n",
    "  for i in range(100):\n",
    "    #df.drop(df.index[i])\n",
    "    #new_row = {'Gender': 1, 'Age': 23, 'Hobbies':3, 'Movies':5, 'Music':5}\n",
    "    new_row = {'Gender': randint(0,2), 'Age': randint(20, 30), 'Hobbies': random.uniform(1, 10), 'Movies': random.uniform(1,10), 'Music': random.uniform(1,10)}\n",
    "    df = df.append(new_row, ignore_index=True)\n",
    "\n",
    "df.head(10)\n"
   ]
  },
  {
   "cell_type": "markdown",
   "metadata": {
    "id": "qZZaos7BL3J5"
   },
   "source": [
    "Gender: 1 = M\n",
    "        0 = F\n",
    "\n",
    "Age: Between 20 to 30\n",
    "\n",
    "Hobbies, Movies, Music: Preffered between scale of 1 to 10  \n"
   ]
  },
  {
   "cell_type": "markdown",
   "metadata": {
    "id": "KYQMiJFqQoUE"
   },
   "source": [
    "#data preprocessing"
   ]
  },
  {
   "cell_type": "code",
   "execution_count": 6,
   "metadata": {
    "colab": {
     "base_uri": "https://localhost:8080/"
    },
    "id": "DQyE8-XEQMHM",
    "outputId": "47548c80-ea0b-498e-decc-0dde3deb1c44"
   },
   "outputs": [
    {
     "data": {
      "text/plain": [
       "(100, 5)"
      ]
     },
     "execution_count": 6,
     "metadata": {
      "tags": []
     },
     "output_type": "execute_result"
    }
   ],
   "source": [
    "df.shape"
   ]
  },
  {
   "cell_type": "code",
   "execution_count": 7,
   "metadata": {
    "colab": {
     "base_uri": "https://localhost:8080/"
    },
    "id": "xNN6tOY0QN3r",
    "outputId": "2243ca58-da3a-4226-eb0c-da8418c7e24a"
   },
   "outputs": [
    {
     "name": "stdout",
     "output_type": "stream",
     "text": [
      "<class 'pandas.core.frame.DataFrame'>\n",
      "RangeIndex: 100 entries, 0 to 99\n",
      "Data columns (total 5 columns):\n",
      " #   Column   Non-Null Count  Dtype  \n",
      "---  ------   --------------  -----  \n",
      " 0   Age      100 non-null    float64\n",
      " 1   Gender   100 non-null    float64\n",
      " 2   Hobbies  100 non-null    float64\n",
      " 3   Music    100 non-null    float64\n",
      " 4   Movies   100 non-null    float64\n",
      "dtypes: float64(5)\n",
      "memory usage: 4.0 KB\n"
     ]
    }
   ],
   "source": [
    "df.info()"
   ]
  },
  {
   "cell_type": "code",
   "execution_count": 133,
   "metadata": {
    "colab": {
     "base_uri": "https://localhost:8080/",
     "height": 198
    },
    "id": "tCQPYF6RjUAw",
    "outputId": "6b3b48a5-10ec-4950-ecb9-4927e20d0d0b"
   },
   "outputs": [
    {
     "data": {
      "text/html": [
       "<div>\n",
       "<style scoped>\n",
       "    .dataframe tbody tr th:only-of-type {\n",
       "        vertical-align: middle;\n",
       "    }\n",
       "\n",
       "    .dataframe tbody tr th {\n",
       "        vertical-align: top;\n",
       "    }\n",
       "\n",
       "    .dataframe thead th {\n",
       "        text-align: right;\n",
       "    }\n",
       "</style>\n",
       "<table border=\"1\" class=\"dataframe\">\n",
       "  <thead>\n",
       "    <tr style=\"text-align: right;\">\n",
       "      <th></th>\n",
       "      <th>Age</th>\n",
       "      <th>Gender</th>\n",
       "      <th>Hobbies</th>\n",
       "      <th>Music</th>\n",
       "      <th>Movies</th>\n",
       "    </tr>\n",
       "  </thead>\n",
       "  <tbody>\n",
       "    <tr>\n",
       "      <th>Age</th>\n",
       "      <td>1.000000</td>\n",
       "      <td>0.040064</td>\n",
       "      <td>0.142890</td>\n",
       "      <td>0.154435</td>\n",
       "      <td>-0.083758</td>\n",
       "    </tr>\n",
       "    <tr>\n",
       "      <th>Gender</th>\n",
       "      <td>0.040064</td>\n",
       "      <td>1.000000</td>\n",
       "      <td>0.140171</td>\n",
       "      <td>0.156262</td>\n",
       "      <td>0.008204</td>\n",
       "    </tr>\n",
       "    <tr>\n",
       "      <th>Hobbies</th>\n",
       "      <td>0.142890</td>\n",
       "      <td>0.140171</td>\n",
       "      <td>1.000000</td>\n",
       "      <td>0.046172</td>\n",
       "      <td>-0.006308</td>\n",
       "    </tr>\n",
       "    <tr>\n",
       "      <th>Music</th>\n",
       "      <td>0.154435</td>\n",
       "      <td>0.156262</td>\n",
       "      <td>0.046172</td>\n",
       "      <td>1.000000</td>\n",
       "      <td>-0.096926</td>\n",
       "    </tr>\n",
       "    <tr>\n",
       "      <th>Movies</th>\n",
       "      <td>-0.083758</td>\n",
       "      <td>0.008204</td>\n",
       "      <td>-0.006308</td>\n",
       "      <td>-0.096926</td>\n",
       "      <td>1.000000</td>\n",
       "    </tr>\n",
       "  </tbody>\n",
       "</table>\n",
       "</div>"
      ],
      "text/plain": [
       "              Age    Gender   Hobbies     Music    Movies\n",
       "Age      1.000000  0.040064  0.142890  0.154435 -0.083758\n",
       "Gender   0.040064  1.000000  0.140171  0.156262  0.008204\n",
       "Hobbies  0.142890  0.140171  1.000000  0.046172 -0.006308\n",
       "Music    0.154435  0.156262  0.046172  1.000000 -0.096926\n",
       "Movies  -0.083758  0.008204 -0.006308 -0.096926  1.000000"
      ]
     },
     "execution_count": 133,
     "metadata": {
      "tags": []
     },
     "output_type": "execute_result"
    }
   ],
   "source": [
    "corr = df.corr()\n",
    "corr\n",
    "#sns.heatmap(corr)"
   ]
  },
  {
   "cell_type": "code",
   "execution_count": 8,
   "metadata": {
    "colab": {
     "base_uri": "https://localhost:8080/",
     "height": 288
    },
    "id": "u4MudSN0RhHp",
    "outputId": "77dd1639-9254-43d2-dcf6-72bb3fb9dba3"
   },
   "outputs": [
    {
     "data": {
      "text/html": [
       "<div>\n",
       "<style scoped>\n",
       "    .dataframe tbody tr th:only-of-type {\n",
       "        vertical-align: middle;\n",
       "    }\n",
       "\n",
       "    .dataframe tbody tr th {\n",
       "        vertical-align: top;\n",
       "    }\n",
       "\n",
       "    .dataframe thead th {\n",
       "        text-align: right;\n",
       "    }\n",
       "</style>\n",
       "<table border=\"1\" class=\"dataframe\">\n",
       "  <thead>\n",
       "    <tr style=\"text-align: right;\">\n",
       "      <th></th>\n",
       "      <th>Age</th>\n",
       "      <th>Gender</th>\n",
       "      <th>Hobbies</th>\n",
       "      <th>Music</th>\n",
       "      <th>Movies</th>\n",
       "    </tr>\n",
       "  </thead>\n",
       "  <tbody>\n",
       "    <tr>\n",
       "      <th>count</th>\n",
       "      <td>100.000000</td>\n",
       "      <td>100.000000</td>\n",
       "      <td>100.000000</td>\n",
       "      <td>100.000000</td>\n",
       "      <td>100.000000</td>\n",
       "    </tr>\n",
       "    <tr>\n",
       "      <th>mean</th>\n",
       "      <td>24.550000</td>\n",
       "      <td>0.480000</td>\n",
       "      <td>5.829589</td>\n",
       "      <td>5.941059</td>\n",
       "      <td>5.420641</td>\n",
       "    </tr>\n",
       "    <tr>\n",
       "      <th>std</th>\n",
       "      <td>2.811862</td>\n",
       "      <td>0.502117</td>\n",
       "      <td>2.723996</td>\n",
       "      <td>2.662857</td>\n",
       "      <td>2.594124</td>\n",
       "    </tr>\n",
       "    <tr>\n",
       "      <th>min</th>\n",
       "      <td>20.000000</td>\n",
       "      <td>0.000000</td>\n",
       "      <td>1.117880</td>\n",
       "      <td>1.263216</td>\n",
       "      <td>1.036959</td>\n",
       "    </tr>\n",
       "    <tr>\n",
       "      <th>25%</th>\n",
       "      <td>22.000000</td>\n",
       "      <td>0.000000</td>\n",
       "      <td>3.589687</td>\n",
       "      <td>3.589336</td>\n",
       "      <td>3.245019</td>\n",
       "    </tr>\n",
       "    <tr>\n",
       "      <th>50%</th>\n",
       "      <td>24.000000</td>\n",
       "      <td>0.000000</td>\n",
       "      <td>6.200682</td>\n",
       "      <td>5.873716</td>\n",
       "      <td>5.460483</td>\n",
       "    </tr>\n",
       "    <tr>\n",
       "      <th>75%</th>\n",
       "      <td>27.000000</td>\n",
       "      <td>1.000000</td>\n",
       "      <td>8.133115</td>\n",
       "      <td>8.238759</td>\n",
       "      <td>7.717118</td>\n",
       "    </tr>\n",
       "    <tr>\n",
       "      <th>max</th>\n",
       "      <td>29.000000</td>\n",
       "      <td>1.000000</td>\n",
       "      <td>9.992527</td>\n",
       "      <td>9.958860</td>\n",
       "      <td>9.843725</td>\n",
       "    </tr>\n",
       "  </tbody>\n",
       "</table>\n",
       "</div>"
      ],
      "text/plain": [
       "              Age      Gender     Hobbies       Music      Movies\n",
       "count  100.000000  100.000000  100.000000  100.000000  100.000000\n",
       "mean    24.550000    0.480000    5.829589    5.941059    5.420641\n",
       "std      2.811862    0.502117    2.723996    2.662857    2.594124\n",
       "min     20.000000    0.000000    1.117880    1.263216    1.036959\n",
       "25%     22.000000    0.000000    3.589687    3.589336    3.245019\n",
       "50%     24.000000    0.000000    6.200682    5.873716    5.460483\n",
       "75%     27.000000    1.000000    8.133115    8.238759    7.717118\n",
       "max     29.000000    1.000000    9.992527    9.958860    9.843725"
      ]
     },
     "execution_count": 8,
     "metadata": {
      "tags": []
     },
     "output_type": "execute_result"
    }
   ],
   "source": [
    "df.describe()"
   ]
  },
  {
   "cell_type": "markdown",
   "metadata": {
    "id": "LPgeTXgvQa3M"
   },
   "source": [
    "#data visualization"
   ]
  },
  {
   "cell_type": "code",
   "execution_count": 9,
   "metadata": {
    "colab": {
     "base_uri": "https://localhost:8080/",
     "height": 335
    },
    "id": "Yw8nVAPKG5v-",
    "outputId": "c799688e-eb31-45b6-f814-15e29e5f416d"
   },
   "outputs": [
    {
     "name": "stderr",
     "output_type": "stream",
     "text": [
      "/usr/local/lib/python3.7/dist-packages/seaborn/_decorators.py:43: FutureWarning: Pass the following variables as keyword args: x, y. From version 0.12, the only valid positional argument will be `data`, and passing other arguments without an explicit keyword will result in an error or misinterpretation.\n",
      "  FutureWarning\n"
     ]
    },
    {
     "data": {
      "image/png": "[encoded data removed]",
      "text/plain": [
       "<Figure size 432x288 with 1 Axes>"
      ]
     },
     "metadata": {
      "needs_background": "light",
      "tags": []
     },
     "output_type": "display_data"
    }
   ],
   "source": [
    "sns.scatterplot(df['Age'], df['Movies'])\n",
    "plt.xlabel('Age')\n",
    "plt.ylabel('Movies')\n",
    "plt.show()"
   ]
  },
  {
   "cell_type": "code",
   "execution_count": 10,
   "metadata": {
    "colab": {
     "base_uri": "https://localhost:8080/",
     "height": 335
    },
    "id": "J1nvRAkePhS8",
    "outputId": "ca4c863b-d2ae-426c-c1f4-5a652c587a21"
   },
   "outputs": [
    {
     "name": "stderr",
     "output_type": "stream",
     "text": [
      "/usr/local/lib/python3.7/dist-packages/seaborn/_decorators.py:43: FutureWarning: Pass the following variables as keyword args: x, y. From version 0.12, the only valid positional argument will be `data`, and passing other arguments without an explicit keyword will result in an error or misinterpretation.\n",
      "  FutureWarning\n"
     ]
    },
    {
     "data": {
      "image/png": "[encoded data removed]",
      "text/plain": [
       "<Figure size 432x288 with 1 Axes>"
      ]
     },
     "metadata": {
      "needs_background": "light",
      "tags": []
     },
     "output_type": "display_data"
    }
   ],
   "source": [
    "sns.scatterplot(df['Age'], df['Hobbies'])\n",
    "plt.xlabel('Age')\n",
    "plt.ylabel('Hobbies')\n",
    "plt.show()"
   ]
  },
  {
   "cell_type": "code",
   "execution_count": 11,
   "metadata": {
    "colab": {
     "base_uri": "https://localhost:8080/",
     "height": 335
    },
    "id": "AnCktCGzMlWr",
    "outputId": "19565f33-1fe8-4729-b27a-860deae6380c"
   },
   "outputs": [
    {
     "name": "stderr",
     "output_type": "stream",
     "text": [
      "/usr/local/lib/python3.7/dist-packages/seaborn/_decorators.py:43: FutureWarning: Pass the following variables as keyword args: x, y. From version 0.12, the only valid positional argument will be `data`, and passing other arguments without an explicit keyword will result in an error or misinterpretation.\n",
      "  FutureWarning\n"
     ]
    },
    {
     "data": {
      "image/png": "[encoded data removed]",
      "text/plain": [
       "<Figure size 432x288 with 1 Axes>"
      ]
     },
     "metadata": {
      "needs_background": "light",
      "tags": []
     },
     "output_type": "display_data"
    }
   ],
   "source": [
    "sns.scatterplot(df['Age'], df['Music'])\n",
    "plt.xlabel('Age')\n",
    "plt.ylabel('Music')\n",
    "plt.show()"
   ]
  },
  {
   "cell_type": "code",
   "execution_count": 12,
   "metadata": {
    "colab": {
     "base_uri": "https://localhost:8080/",
     "height": 335
    },
    "id": "ZpTQYjGjPT16",
    "outputId": "2e902422-0e38-4980-a706-8eac8e566e35"
   },
   "outputs": [
    {
     "name": "stderr",
     "output_type": "stream",
     "text": [
      "/usr/local/lib/python3.7/dist-packages/seaborn/_decorators.py:43: FutureWarning: Pass the following variables as keyword args: x, y. From version 0.12, the only valid positional argument will be `data`, and passing other arguments without an explicit keyword will result in an error or misinterpretation.\n",
      "  FutureWarning\n"
     ]
    },
    {
     "data": {
      "image/png": "[encoded data removed]",
      "text/plain": [
       "<Figure size 432x288 with 1 Axes>"
      ]
     },
     "metadata": {
      "needs_background": "light",
      "tags": []
     },
     "output_type": "display_data"
    }
   ],
   "source": [
    "sns.scatterplot(df['Music'], df['Movies'])\n",
    "plt.xlabel('Music')\n",
    "plt.ylabel('Movies')\n",
    "plt.show()"
   ]
  },
  {
   "cell_type": "markdown",
   "metadata": {
    "id": "Oy87wKD3QsMZ"
   },
   "source": [
    "#clustering algorithm"
   ]
  },
  {
   "cell_type": "code",
   "execution_count": 107,
   "metadata": {
    "colab": {
     "base_uri": "https://localhost:8080/",
     "height": 288
    },
    "id": "gig7vYgjPakK",
    "outputId": "e637721d-b948-4e98-a34b-2c8189ffd4fc"
   },
   "outputs": [
    {
     "data": {
      "text/html": [
       "<div>\n",
       "<style scoped>\n",
       "    .dataframe tbody tr th:only-of-type {\n",
       "        vertical-align: middle;\n",
       "    }\n",
       "\n",
       "    .dataframe tbody tr th {\n",
       "        vertical-align: top;\n",
       "    }\n",
       "\n",
       "    .dataframe thead th {\n",
       "        text-align: right;\n",
       "    }\n",
       "</style>\n",
       "<table border=\"1\" class=\"dataframe\">\n",
       "  <thead>\n",
       "    <tr style=\"text-align: right;\">\n",
       "      <th></th>\n",
       "      <th>0</th>\n",
       "      <th>1</th>\n",
       "      <th>2</th>\n",
       "      <th>3</th>\n",
       "      <th>4</th>\n",
       "    </tr>\n",
       "  </thead>\n",
       "  <tbody>\n",
       "    <tr>\n",
       "      <th>count</th>\n",
       "      <td>1.000000e+02</td>\n",
       "      <td>1.000000e+02</td>\n",
       "      <td>1.000000e+02</td>\n",
       "      <td>1.000000e+02</td>\n",
       "      <td>1.000000e+02</td>\n",
       "    </tr>\n",
       "    <tr>\n",
       "      <th>mean</th>\n",
       "      <td>-2.531308e-16</td>\n",
       "      <td>-6.661338e-17</td>\n",
       "      <td>9.348078e-16</td>\n",
       "      <td>-2.039341e-16</td>\n",
       "      <td>9.936496e-17</td>\n",
       "    </tr>\n",
       "    <tr>\n",
       "      <th>std</th>\n",
       "      <td>1.005038e+00</td>\n",
       "      <td>1.005038e+00</td>\n",
       "      <td>1.005038e+00</td>\n",
       "      <td>1.005038e+00</td>\n",
       "      <td>1.005038e+00</td>\n",
       "    </tr>\n",
       "    <tr>\n",
       "      <th>min</th>\n",
       "      <td>-1.626297e+00</td>\n",
       "      <td>-9.607689e-01</td>\n",
       "      <td>-1.738419e+00</td>\n",
       "      <td>-1.765551e+00</td>\n",
       "      <td>-1.698364e+00</td>\n",
       "    </tr>\n",
       "    <tr>\n",
       "      <th>25%</th>\n",
       "      <td>-9.114412e-01</td>\n",
       "      <td>-9.607689e-01</td>\n",
       "      <td>-8.264281e-01</td>\n",
       "      <td>-8.876071e-01</td>\n",
       "      <td>-8.428981e-01</td>\n",
       "    </tr>\n",
       "    <tr>\n",
       "      <th>50%</th>\n",
       "      <td>-1.965854e-01</td>\n",
       "      <td>-9.607689e-01</td>\n",
       "      <td>1.369172e-01</td>\n",
       "      <td>-2.541713e-02</td>\n",
       "      <td>1.543600e-02</td>\n",
       "    </tr>\n",
       "    <tr>\n",
       "      <th>75%</th>\n",
       "      <td>8.756984e-01</td>\n",
       "      <td>1.040833e+00</td>\n",
       "      <td>8.499020e-01</td>\n",
       "      <td>8.672171e-01</td>\n",
       "      <td>8.897212e-01</td>\n",
       "    </tr>\n",
       "    <tr>\n",
       "      <th>max</th>\n",
       "      <td>1.590554e+00</td>\n",
       "      <td>1.040833e+00</td>\n",
       "      <td>1.535945e+00</td>\n",
       "      <td>1.516432e+00</td>\n",
       "      <td>1.713629e+00</td>\n",
       "    </tr>\n",
       "  </tbody>\n",
       "</table>\n",
       "</div>"
      ],
      "text/plain": [
       "                  0             1             2             3             4\n",
       "count  1.000000e+02  1.000000e+02  1.000000e+02  1.000000e+02  1.000000e+02\n",
       "mean  -2.531308e-16 -6.661338e-17  9.348078e-16 -2.039341e-16  9.936496e-17\n",
       "std    1.005038e+00  1.005038e+00  1.005038e+00  1.005038e+00  1.005038e+00\n",
       "min   -1.626297e+00 -9.607689e-01 -1.738419e+00 -1.765551e+00 -1.698364e+00\n",
       "25%   -9.114412e-01 -9.607689e-01 -8.264281e-01 -8.876071e-01 -8.428981e-01\n",
       "50%   -1.965854e-01 -9.607689e-01  1.369172e-01 -2.541713e-02  1.543600e-02\n",
       "75%    8.756984e-01  1.040833e+00  8.499020e-01  8.672171e-01  8.897212e-01\n",
       "max    1.590554e+00  1.040833e+00  1.535945e+00  1.516432e+00  1.713629e+00"
      ]
     },
     "execution_count": 107,
     "metadata": {
      "tags": []
     },
     "output_type": "execute_result"
    }
   ],
   "source": [
    "# normalizing the data\n",
    "scaler = StandardScaler()\n",
    "data_scaled = scaler.fit_transform(df)\n",
    "\n",
    "# statistics of scaled data\n",
    "pd.DataFrame(data_scaled).describe()\n"
   ]
  },
  {
   "cell_type": "code",
   "execution_count": 14,
   "metadata": {
    "colab": {
     "base_uri": "https://localhost:8080/"
    },
    "id": "SRMlEvpTSDC6",
    "outputId": "1daeda0a-1ce2-4d57-c367-955453d0fb29"
   },
   "outputs": [
    {
     "data": {
      "text/plain": [
       "KMeans(algorithm='auto', copy_x=True, init='k-means++', max_iter=300,\n",
       "       n_clusters=2, n_init=10, n_jobs=None, precompute_distances='auto',\n",
       "       random_state=None, tol=0.0001, verbose=0)"
      ]
     },
     "execution_count": 14,
     "metadata": {
      "tags": []
     },
     "output_type": "execute_result"
    }
   ],
   "source": [
    "# defining the k-means \n",
    "\n",
    "kmeans = KMeans(n_clusters=2, init='k-means++')   # k-means++ generally produce a better result than k-means \n",
    "\n",
    "#fitting the data in kmeans on scaled data\n",
    "kmeans.fit(data_scaled)"
   ]
  },
  {
   "cell_type": "code",
   "execution_count": 15,
   "metadata": {
    "colab": {
     "base_uri": "https://localhost:8080/"
    },
    "id": "PEoAvwv7SuMY",
    "outputId": "dccb7257-54eb-481e-fcc6-64d91f669c0d"
   },
   "outputs": [
    {
     "data": {
      "text/plain": [
       "395.4261781998822"
      ]
     },
     "execution_count": 15,
     "metadata": {
      "tags": []
     },
     "output_type": "execute_result"
    }
   ],
   "source": [
    "# checking the inertia\n",
    "kmeans.inertia_"
   ]
  },
  {
   "cell_type": "code",
   "execution_count": 43,
   "metadata": {
    "id": "R1s6Y7djPfsS"
   },
   "outputs": [],
   "source": [
    "# calculating centroids\n",
    "centers = kmeans.cluster_centers_"
   ]
  },
  {
   "cell_type": "code",
   "execution_count": 44,
   "metadata": {
    "colab": {
     "base_uri": "https://localhost:8080/",
     "height": 406
    },
    "id": "Op-G4doJTEI1",
    "outputId": "f33893c4-7c8b-4808-9d8a-cc09ecd762a3"
   },
   "outputs": [
    {
     "data": {
      "text/plain": [
       "Text(0, 0.5, 'Inertia')"
      ]
     },
     "execution_count": 44,
     "metadata": {
      "tags": []
     },
     "output_type": "execute_result"
    },
    {
     "data": {
      "image/png": "[encoded data removed]",
      "text/plain": [
       "<Figure size 720x432 with 1 Axes>"
      ]
     },
     "metadata": {
      "needs_background": "light",
      "tags": []
     },
     "output_type": "display_data"
    }
   ],
   "source": [
    "# fitting k-means multiple times\n",
    "SSE = []    # sum of squared errors\n",
    "\n",
    "for cluster in range(1, 50):\n",
    "  kmeans = KMeans(n_jobs = -1, n_clusters = cluster, init='k-means++')\n",
    "  kmeans.fit(data_scaled)\n",
    "  SSE.append(kmeans.inertia_)\n",
    "\n",
    "# converting the results into dataframe and plotting them\n",
    "\n",
    "frame = pd.DataFrame({'Cluster': range(1,50), 'SSE': SSE})\n",
    "plt.figure(figsize=(10,6))\n",
    "plt.plot(frame['Cluster'], frame['SSE'], marker='o')\n",
    "plt.xlabel('Number of clusters')\n",
    "plt.ylabel('Inertia')"
   ]
  },
  {
   "cell_type": "markdown",
   "metadata": {
    "id": "OfdF920QW6P7"
   },
   "source": [
    "In the above graph, the K-Means is run for 50 times and inertia is observed. Inertia tells that how many clusters to make. From the *elbow* curve,  clusters can be chosen where there is elbow."
   ]
  },
  {
   "cell_type": "code",
   "execution_count": 126,
   "metadata": {
    "colab": {
     "base_uri": "https://localhost:8080/"
    },
    "id": "GIVC4Cl5UOWl",
    "outputId": "612df29b-a112-4946-a1a9-cb8554d38c1b"
   },
   "outputs": [
    {
     "data": {
      "text/plain": [
       "array([7, 6, 0, 1, 5, 5, 6, 5, 0, 7, 0, 5, 6, 5, 1, 5, 1, 5, 5, 3, 1, 7,\n",
       "       2, 7, 1, 6, 6, 5, 5, 7, 7, 5, 4, 3, 7, 5, 1, 6, 2, 6, 5, 5, 7, 4,\n",
       "       7, 4, 0, 4, 2, 5, 4, 2, 4, 7, 0, 5, 3, 4, 5, 4, 1, 2, 7, 2, 0, 4,\n",
       "       1, 3, 1, 7, 3, 7, 5, 5, 6, 0, 5, 1, 1, 6, 1, 6, 6, 2, 0, 1, 5, 6,\n",
       "       6, 2, 6, 3, 6, 1, 6, 0, 1, 2, 5, 1], dtype=int32)"
      ]
     },
     "execution_count": 126,
     "metadata": {
      "tags": []
     },
     "output_type": "execute_result"
    }
   ],
   "source": [
    "# K Means using 8 clusters from the above graph \n",
    "\n",
    "kmeans = KMeans(n_jobs = -1,n_clusters= 8, init='k-means++')\n",
    "kmeans.fit(data_scaled)\n",
    "predict = kmeans.predict(data_scaled)\n",
    "\n",
    "y_kmeans = kmeans.fit_predict(data_scaled)    #predict that which value will be in which cluster\n",
    "y_kmeans"
   ]
  },
  {
   "cell_type": "code",
   "execution_count": 115,
   "metadata": {
    "colab": {
     "base_uri": "https://localhost:8080/"
    },
    "id": "kTd_M0PxWPXD",
    "outputId": "bbfecbd5-794e-4a95-e01b-5ad36acf29d1"
   },
   "outputs": [
    {
     "data": {
      "text/plain": [
       "2    16\n",
       "3    15\n",
       "0    14\n",
       "4    12\n",
       "6    11\n",
       "5    11\n",
       "1    11\n",
       "7    10\n",
       "Name: Cluster, dtype: int64"
      ]
     },
     "execution_count": 115,
     "metadata": {
      "tags": []
     },
     "output_type": "execute_result"
    }
   ],
   "source": [
    "# viewing how many entries are there in which cluster\n",
    "\n",
    "frame = pd.DataFrame(data_scaled)\n",
    "frame['Cluster'] =  predict\n",
    "frame['Cluster'].value_counts()"
   ]
  },
  {
   "cell_type": "code",
   "execution_count": null,
   "metadata": {
    "id": "UJe5482_WtUW"
   },
   "outputs": [],
   "source": [
    "#frame.info()"
   ]
  },
  {
   "cell_type": "code",
   "execution_count": 130,
   "metadata": {
    "colab": {
     "base_uri": "https://localhost:8080/",
     "height": 341
    },
    "id": "jqXvwNQ4XuK8",
    "outputId": "b943216d-4610-4506-c646-e7ade5f53e7e"
   },
   "outputs": [
    {
     "data": {
      "image/png": "[encoded data removed]",
      "text/plain": [
       "<Figure size 432x288 with 1 Axes>"
      ]
     },
     "metadata": {
      "needs_background": "light",
      "tags": []
     },
     "output_type": "display_data"
    }
   ],
   "source": [
    "#plotting the clusters\n",
    "\n",
    "for i in range(9):\n",
    "  for j in range(2):\n",
    "    plt.scatter(data_scaled[y_kmeans == i, 0], data_scaled[y_kmeans == i, j], s=100, label='cluster'+str(i), cmap='viridis')\n",
    "\n",
    "#plt.scatter(data_scaled[:,0],data_scaled[:,1])\n",
    "\n",
    "plt.scatter(kmeans.cluster_centers_[:, 0], kmeans.cluster_centers_[:, 1], s=150,  label = 'Centroids' , alpha=0.5)\n",
    "#plt.scatter(data_scaled[:, 0], data_scaled[:, 1], c='black', s=100, alpha=0.5)\n",
    "    \n",
    "plt.legend(loc='lower right')\n",
    "plt.show()"
   ]
  },
  {
   "cell_type": "code",
   "execution_count": 127,
   "metadata": {
    "colab": {
     "base_uri": "https://localhost:8080/"
    },
    "id": "Ddu6ew-1-QXC",
    "outputId": "a07839f6-113a-4bdd-c2f5-c2f380abec19"
   },
   "outputs": [
    {
     "data": {
      "text/plain": [
       "array([5], dtype=int32)"
      ]
     },
     "execution_count": 127,
     "metadata": {
      "tags": []
     },
     "output_type": "execute_result"
    }
   ],
   "source": [
    "kmeans.predict(np.array([[30.5,0,9,9.7,8.0]]))"
   ]
  }
 ],
 "metadata": {
  "colab": {
   "name": "clustering for recommendation.ipynb",
   "provenance": []
  },
  "kernelspec": {
   "display_name": "Python 3",
   "language": "python",
   "name": "python3"
  },
  "language_info": {
   "codemirror_mode": {
    "name": "ipython",
    "version": 3
   },
   "file_extension": ".py",
   "mimetype": "text/x-python",
   "name": "python",
   "nbconvert_exporter": "python",
   "pygments_lexer": "ipython3",
   "version": "3.8.2"
  }
 },
 "nbformat": 4,
 "nbformat_minor": 1
}
